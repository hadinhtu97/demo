{
 "metadata": {
  "language_info": {
   "codemirror_mode": {
    "name": "ipython",
    "version": 3
   },
   "file_extension": ".py",
   "mimetype": "text/x-python",
   "name": "python",
   "nbconvert_exporter": "python",
   "pygments_lexer": "ipython3",
   "version": "3.8.6-final"
  },
  "orig_nbformat": 2,
  "kernelspec": {
   "name": "python38664bitcf8d19ba524245e3af06c2a3e3f5f158",
   "display_name": "Python 3.8.6 64-bit",
   "language": "python"
  }
 },
 "nbformat": 4,
 "nbformat_minor": 2,
 "cells": [
  {
   "source": [
    "# Jupyter Notebook\n",
    "\n",
    "## Markdown:\n",
    "\n",
    "[this is link](https://google.com)\n",
    "\n",
    "**This is strong text**\n",
    "\n",
    "_This is italic text\n",
    "\n",
    "> This is quote\n",
    "\n",
    "![green-divider](https://user-images.githubusercontent.com/7065401/52071924-c003ad80-2562-11e9-8297-1c6595f8a7ff.png)\n",
    "\n",
    "## Command on jupyter :\n",
    "\n",
    "**a** - add line above \n",
    "\n",
    "**b** - add line below\n",
    "\n",
    "**dd** - delete line \n",
    "\n",
    "**esc** - from editting mode to command mode\n",
    "\n",
    "**enter** - from command mode to editting mode\n",
    "\n",
    "**m** - switch cell to Markdown\n",
    "\n",
    "**y** - switch cell to Code\n",
    "\n",
    "**z** - undo"
   ],
   "cell_type": "markdown",
   "metadata": {}
  },
  {
   "cell_type": "code",
   "execution_count": 2,
   "metadata": {},
   "outputs": [
    {
     "output_type": "stream",
     "name": "stdout",
     "text": [
      "Hello World!\n"
     ]
    }
   ],
   "source": [
    "print(\"Hello World!\")"
   ]
  },
  {
   "cell_type": "code",
   "execution_count": null,
   "metadata": {},
   "outputs": [],
   "source": []
  }
 ]
}