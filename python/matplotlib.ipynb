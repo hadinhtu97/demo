{
 "metadata": {
  "language_info": {
   "codemirror_mode": {
    "name": "ipython",
    "version": 3
   },
   "file_extension": ".py",
   "mimetype": "text/x-python",
   "name": "python",
   "nbconvert_exporter": "python",
   "pygments_lexer": "ipython3",
   "version": "3.8.6-final"
  },
  "orig_nbformat": 2,
  "kernelspec": {
   "name": "python38664bitcf8d19ba524245e3af06c2a3e3f5f158",
   "display_name": "Python 3.8.6 64-bit",
   "language": "python"
  }
 },
 "nbformat": 4,
 "nbformat_minor": 2,
 "cells": [
  {
   "cell_type": "code",
   "execution_count": null,
   "metadata": {},
   "outputs": [],
   "source": [
    "import numpy as np\n",
    "import pandas as pd\n",
    "import matplotlib.pyplot as plt"
   ]
  },
  {
   "source": [
    "# Plotting\n",
    "\n",
    "The plot() function is used to draw points (markers) in a diagram.\n",
    "\n",
    "By default, the plot() function draws a line from point to point.\n",
    "\n",
    "The function takes parameters for specifying points in the diagram.\n",
    "\n",
    "Parameter 1 is an array containing the points on the x-axis.\n",
    "\n",
    "Parameter 2 is an array containing the points on the y-axis."
   ],
   "cell_type": "markdown",
   "metadata": {}
  },
  {
   "cell_type": "code",
   "execution_count": null,
   "metadata": {},
   "outputs": [],
   "source": [
    "x = np.array([0,6])\n",
    "y = np.array([0,250])\n",
    "\n",
    "plt.plot(x,y)"
   ]
  },
  {
   "cell_type": "code",
   "execution_count": null,
   "metadata": {},
   "outputs": [],
   "source": [
    "plt.plot([1,2],[-250,-240])"
   ]
  },
  {
   "source": [
    "To plot only the markers, you can use shortcut string notation parameter 'o', which means 'rings'."
   ],
   "cell_type": "markdown",
   "metadata": {}
  },
  {
   "cell_type": "code",
   "execution_count": null,
   "metadata": {},
   "outputs": [],
   "source": [
    "plt.plot([1,2],[10,100],'o')"
   ]
  },
  {
   "source": [
    "Draw a line in a diagram from position (1, 3) to (2, 8) then to (6, 1) and finally to position (8, 10):"
   ],
   "cell_type": "markdown",
   "metadata": {}
  },
  {
   "cell_type": "code",
   "execution_count": null,
   "metadata": {},
   "outputs": [],
   "source": [
    "plt.plot([1,2,6,8],[2,8,1,10])"
   ]
  },
  {
   "source": [
    "If we do not specify the points in the x-axis, they will get the default values 0, 1, 2, 3, (etc. depending on the length of the y-points.\n",
    "\n"
   ],
   "cell_type": "markdown",
   "metadata": {}
  },
  {
   "cell_type": "code",
   "execution_count": null,
   "metadata": {},
   "outputs": [],
   "source": [
    "plt.plot([3, 8, 1, 10, 5, 7])"
   ]
  },
  {
   "source": [
    "You can use the keyword argument marker to emphasize each point with a specified marker:"
   ],
   "cell_type": "markdown",
   "metadata": {}
  },
  {
   "cell_type": "code",
   "execution_count": null,
   "metadata": {},
   "outputs": [],
   "source": [
    "plt.plot([2,3,1,5,7],marker='*')"
   ]
  },
  {
   "source": [
    "You can use also use the shortcut string notation parameter to specify the marker.\n",
    "\n",
    "This parameter is also called fmt, and is written with this syntax:\n",
    "marker|line|color"
   ],
   "cell_type": "markdown",
   "metadata": {}
  },
  {
   "cell_type": "code",
   "execution_count": null,
   "metadata": {},
   "outputs": [],
   "source": [
    "plt.plot([1,5,7,2,9],'s:r')"
   ]
  },
  {
   "source": [
    "# marker: \n",
    "\n",
    "'o' \tCircle \t\n",
    "\n",
    "'*' \tStar \t\n",
    "\n",
    "'.' \tPoint \t\n",
    "\n",
    "',' \tPixel \t\n",
    "\n",
    "'x' \tX \t\n",
    "\n",
    "'X' \tX (filled) \t\n",
    "\n",
    "'+' \tPlus \t\n",
    "\n",
    "'P' \tPlus (filled) \t\n",
    "\n",
    "'s' \tSquare \t\n",
    "\n",
    "'D' \tDiamond \t\n",
    "\n",
    "'d' \tDiamond (thin) \t\n",
    "\n",
    "'p' \tPentagon \t\n",
    "\n",
    "'H' \tHexagon \t\n",
    "\n",
    "'h' \tHexagon \t\n",
    "\n",
    "'v' \tTriangle Down \t\n",
    "\n",
    "'^' \tTriangle Up \t\n",
    "\n",
    "'<' \tTriangle Left \t\n",
    "\n",
    "'>' \tTriangle Right \t\n",
    "\n",
    "'1' \tTri Down \t\n",
    "\n",
    "'2' \tTri Up \t\n",
    "\n",
    "'3' \tTri Left \t\n",
    "\n",
    "'4' \tTri Right \t\n",
    "\n",
    "'|' \tVline \t\n",
    "\n",
    "'_' \tHline\n",
    "\n",
    "# Line: \n",
    "\n",
    "'-' \tSolid line \t\n",
    "\n",
    "':' \tDotted line \n",
    "\n",
    "'--' \tDashed line \t\n",
    "\n",
    "'-.' \tDashed/dotted line\n",
    "\n",
    "# Color: \n",
    "\n",
    "'r' \tRed \t\n",
    "\n",
    "'g' \tGreen \n",
    "\n",
    "'b' \tBlue \t\n",
    "\n",
    "'c' \tCyan \t\n",
    "\n",
    "'m' \tMagenta \t\n",
    "\n",
    "'y' \tYellow \t\n",
    "\n",
    "'k' \tBlack \t\n",
    "\n",
    "'w' \tWhite"
   ],
   "cell_type": "markdown",
   "metadata": {}
  },
  {
   "cell_type": "code",
   "execution_count": null,
   "metadata": {},
   "outputs": [],
   "source": [
    "plt.plot([2,3,4,5,7],[1,2,3,4,5],'o--c')"
   ]
  },
  {
   "source": [
    "You can use the keyword argument markersize or the shorter version, ms to set the size of the markers:"
   ],
   "cell_type": "markdown",
   "metadata": {}
  },
  {
   "cell_type": "code",
   "execution_count": null,
   "metadata": {},
   "outputs": [],
   "source": [
    "plt.plot([2,3,5,76],ms=10,marker='o')"
   ]
  },
  {
   "source": [
    "You can use the keyword argument markeredgecolor or the shorter mec to set the color of the edge of the markers:"
   ],
   "cell_type": "markdown",
   "metadata": {}
  },
  {
   "cell_type": "code",
   "execution_count": null,
   "metadata": {},
   "outputs": [],
   "source": [
    "plt.plot([2,3,5,76],ms=10,marker='o',mec='r')"
   ]
  },
  {
   "source": [
    "You can use the keyword argument markerfacecolor or the shorter mfc to set the color inside the edge of the markers:"
   ],
   "cell_type": "markdown",
   "metadata": {}
  },
  {
   "cell_type": "code",
   "execution_count": null,
   "metadata": {},
   "outputs": [],
   "source": [
    "plt.plot([2,3,5,76],ms=10,marker='o',mec='r',mfc='g')"
   ]
  },
  {
   "source": [
    "With Pyplot, you can use the xlabel() and ylabel() functions to set a label for the x- and y-axis.\n",
    "\n",
    "With Pyplot, you can use the title() function to set a title for the plot."
   ],
   "cell_type": "markdown",
   "metadata": {}
  },
  {
   "cell_type": "code",
   "execution_count": null,
   "metadata": {},
   "outputs": [],
   "source": [
    "plt.plot([1,2,3,5],[2,1,4,1])\n",
    "plt.xlabel('x-axis', fontdict={'family':'serif','color':'blue','size':20})\n",
    "plt.ylabel('y-axis')\n",
    "plt.title('test', loc='right')\n",
    "plt.grid(color = 'green', linestyle = '--', linewidth = 0.5)"
   ]
  },
  {
   "source": [
    "# subplot\n",
    "\n",
    "With the subplots() function you can draw multiple plots in one figure.\n",
    "\n",
    "The layout is organized in rows and columns, which are represented by the first and second argument.\n",
    "\n",
    "The third argument represents the index of the current plot.\n",
    "\n"
   ],
   "cell_type": "markdown",
   "metadata": {}
  },
  {
   "cell_type": "code",
   "execution_count": null,
   "metadata": {},
   "outputs": [],
   "source": [
    "plt.subplot(1,2,1)\n",
    "plt.plot([1,2,3],[4,5,6])\n",
    "plt.subplot(1,2,2)\n",
    "plt.plot([2,1,4],[10,11,11])"
   ]
  },
  {
   "cell_type": "code",
   "execution_count": null,
   "metadata": {},
   "outputs": [],
   "source": [
    "plt.subplot(2,1,2)\n",
    "plt.plot([1,2,3,4,5])\n",
    "plt.subplot(2,1,1)\n",
    "plt.plot([3,2,4])"
   ]
  },
  {
   "cell_type": "code",
   "execution_count": null,
   "metadata": {},
   "outputs": [],
   "source": [
    "plt.subplot(1,2,1)\n",
    "plt.plot([1,2,3],[4,5,6])\n",
    "plt.title('figure1')\n",
    "plt.subplot(1,2,2)\n",
    "plt.plot([2,1,4],[10,11,11])\n",
    "plt.title('figure2')\n",
    "plt.suptitle('all')"
   ]
  },
  {
   "source": [
    "# Scatter\n",
    "\n",
    "With Pyplot, you can use the scatter() function to draw a scatter plot.\n",
    "\n",
    "The scatter() function plots one dot for each observation. It needs two arrays of the same length, one for the values of the x-axis, and one for values on the y-axis:"
   ],
   "cell_type": "markdown",
   "metadata": {}
  },
  {
   "cell_type": "code",
   "execution_count": null,
   "metadata": {},
   "outputs": [],
   "source": [
    "plt.scatter([1,2,3],[4,5,6])"
   ]
  },
  {
   "cell_type": "code",
   "execution_count": null,
   "metadata": {},
   "outputs": [],
   "source": [
    "\n",
    "x = np.array([5,7,8,7,2,17,2,9,4,11,12,9,6])\n",
    "y = np.array([99,86,87,88,111,86,103,87,94,78,77,85,86])\n",
    "plt.scatter(x, y, c='g')\n",
    "\n",
    "\n",
    "x = np.array([2,2,8,1,15,8,12,9,7,3,11,4,7,14,12])\n",
    "y = np.array([100,105,84,105,90,99,90,95,94,100,79,112,91,80,85])\n",
    "plt.scatter(x, y, c='r')"
   ]
  },
  {
   "source": [
    "# Bar\n",
    "\n",
    "With Pyplot, you can use the bar() function to draw bar graphs"
   ],
   "cell_type": "markdown",
   "metadata": {}
  },
  {
   "cell_type": "code",
   "execution_count": null,
   "metadata": {},
   "outputs": [],
   "source": [
    "plt.bar(['A','B','C','D','E'],[1,2,3,4,5])"
   ]
  },
  {
   "cell_type": "code",
   "execution_count": null,
   "metadata": {},
   "outputs": [],
   "source": [
    "plt.barh(['A','B','C','D','E'],[1,2,3,4,5])"
   ]
  },
  {
   "cell_type": "code",
   "execution_count": null,
   "metadata": {},
   "outputs": [],
   "source": [
    "plt.bar(['A','B','C','D','E'],[1,2,3,4,5], color='red',width=0.5)"
   ]
  },
  {
   "source": [
    "# Pie\n",
    "\n",
    "With Pyplot, you can use the pie() function to draw pie charts:"
   ],
   "cell_type": "markdown",
   "metadata": {}
  },
  {
   "cell_type": "code",
   "execution_count": null,
   "metadata": {},
   "outputs": [],
   "source": [
    "plt.pie([1,2,3,4,5])"
   ]
  },
  {
   "source": [
    "# Pandas plot"
   ],
   "cell_type": "markdown",
   "metadata": {}
  },
  {
   "cell_type": "code",
   "execution_count": null,
   "metadata": {},
   "outputs": [],
   "source": [
    "df = pd.read_csv('./data/data.csv')\n",
    "df"
   ]
  },
  {
   "cell_type": "code",
   "execution_count": null,
   "metadata": {},
   "outputs": [],
   "source": [
    "df.plot()"
   ]
  },
  {
   "cell_type": "code",
   "execution_count": null,
   "metadata": {},
   "outputs": [],
   "source": [
    "df['Duration'].plot()"
   ]
  },
  {
   "cell_type": "code",
   "execution_count": null,
   "metadata": {},
   "outputs": [],
   "source": [
    "df.plot(kind='scatter', x='Duration',y='Pulse')"
   ]
  }
 ]
}